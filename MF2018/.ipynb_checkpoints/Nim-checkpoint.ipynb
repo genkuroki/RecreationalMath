{
 "cells": [
  {
   "cell_type": "markdown",
   "metadata": {},
   "source": [
    "# Nimで遊ぼう\n",
    "\n",
    "黒木玄\n",
    "\n",
    "2018-09-03\n",
    "\n",
    "* Copyright 2018 Gen Kuroki\n",
    "* License: MIT https://opensource.org/licenses/MIT\n",
    "* Repository: https://github.com/genkuroki/RecreationalMath/tree/master/MF2018\n",
    "\n",
    "このファイルは次の場所でよりきれいに閲覧できる:\n",
    "\n",
    "* <a href=\"http://nbviewer.jupyter.org/github/genkuroki/RecreationalMath/blob/master/MF2018/Nim.ipynb?flush_cache=true\">nbviewer</a>\n",
    "\n",
    "**関連ウェブサイト:**\n",
    "\n",
    "* https://mathtrain.jp/nim\n",
    "* https://www.math.nagoya-u.ac.jp/~naito/lecture/high_school_1999/note.pdf\n",
    "* http://web.mit.edu/sp.268/www/nim.pdf\n",
    "* http://seisan.server-shared.com/524/524-2.pdf\n",
    "\n",
    "チョコレートを折って食べるゲームは本質的にNimと同値である:\n",
    "\n",
    "* http://chocolategame.jp/index.html\n",
    "\n",
    "**Julia言語:** <a href=\"https://www.google.co.jp/search?q=Julialang\">Julia言語</a>のインストールについては\n",
    "\n",
    "* <a href=\"http://nbviewer.jupyter.org/gist/genkuroki/81de23edcae631a995e19a2ecf946a4f\">WindowsへのJulia言語のインストール</a>\n",
    "\n",
    "を参照. このノートブックでは v0.6.4 を使用している. その理由は v1.0.0 はこれを書いている時点で Windows 上の Jupyter で利用できないから.\n",
    "\n",
    "$\n",
    "\\newcommand\\eps{\\varepsilon}\n",
    "\\newcommand\\ds{\\displaystyle}\n",
    "\\newcommand\\Z{{\\mathbb Z}}\n",
    "\\newcommand\\R{{\\mathbb R}}\n",
    "\\newcommand\\C{{\\mathbb C}}\n",
    "\\newcommand\\T{{\\mathbb T}}\n",
    "\\newcommand\\QED{\\text{□}}\n",
    "\\newcommand\\root{\\sqrt}\n",
    "\\newcommand\\bra{\\langle}\n",
    "\\newcommand\\ket{\\rangle}\n",
    "\\newcommand\\d{\\partial}\n",
    "\\newcommand\\sech{\\operatorname{sech}}\n",
    "\\newcommand\\cosec{\\operatorname{cosec}}\n",
    "\\newcommand\\sign{\\operatorname{sign}}\n",
    "\\newcommand\\sinc{\\operatorname{sinc}}\n",
    "\\newcommand\\arctanh{\\operatorname{arctanh}}\n",
    "\\newcommand\\sn{\\operatorname{sn}}\n",
    "\\newcommand\\cn{\\operatorname{cn}}\n",
    "\\newcommand\\cd{\\operatorname{cd}}\n",
    "\\newcommand\\dn{\\operatorname{dn}}\n",
    "\\newcommand\\real{\\operatorname{Re}}\n",
    "\\newcommand\\imag{\\operatorname{Im}}\n",
    "\\newcommand\\Li{\\operatorname{Li}}\n",
    "\\newcommand\\np[1]{:\\!#1\\!:}\n",
    "\\newcommand\\PROD{\\mathop{\\coprod\\kern-1.35em\\prod}}\n",
    "\\newcommand\\b{0\\mathrm{b}}\n",
    "$"
   ]
  },
  {
   "cell_type": "markdown",
   "metadata": {
    "toc": true
   },
   "source": [
    "<h1>目次<span class=\"tocSkip\"></span></h1>\n",
    "<div class=\"toc\"><ul class=\"toc-item\"><li><span><a href=\"#組み合わせゲーム理論\" data-toc-modified-id=\"組み合わせゲーム理論-1\"><span class=\"toc-item-num\">1&nbsp;&nbsp;</span>組み合わせゲーム理論</a></span></li><li><span><a href=\"#Nim\" data-toc-modified-id=\"Nim-2\"><span class=\"toc-item-num\">2&nbsp;&nbsp;</span>Nim</a></span></li><li><span><a href=\"#取れる石の個数に制限がある場合\" data-toc-modified-id=\"取れる石の個数に制限がある場合-3\"><span class=\"toc-item-num\">3&nbsp;&nbsp;</span>取れる石の個数に制限がある場合</a></span></li></ul></div>"
   ]
  },
  {
   "cell_type": "markdown",
   "metadata": {},
   "source": [
    "## 組み合わせゲーム理論\n",
    "\n",
    "組み合わせゲーム理論についてはツイッターで大量に解説をつぶやいたことがある. 以下のまとめを参照して欲しい.\n",
    "\n",
    "* https://twitter.com/i/moments/1023916925154295809\n",
    "* https://twitter.com/i/moments/1023919157513834498\n",
    "* https://twitter.com/i/moments/1023920702749999104\n",
    "\n",
    "ポイントはゲーム全体に足し算の構造が入ることである. しかもその足し算は結合法則を満たし, $0$ に対応するゲームが存在し, 足し算に関する逆元が存在する. それによってゲーム全体にはAbel群(可換群)の構造が入る.\n",
    "\n",
    "ただし, 考えるゲームは2人が交互着手するタイプの常に有限時間で終わるゲームで自分の手番で合法的着手が不可能になった側が負けるというルールのゲームに限る. \n",
    "\n",
    "組み合わせゲーム理論については囲碁を知っていると理解し易い:\n",
    "\n",
    "* https://senseis.xmp.net/?CGT\n",
    "* http://www.computer-go.jp/journal/vol5/vol5-5.pdf\n",
    "* https://www.dumbo.ai.kyutech.ac.jp/~teigo/GoResearch/shibu2008.pdf"
   ]
  },
  {
   "cell_type": "markdown",
   "metadata": {},
   "source": [
    "## Nim \n",
    "\n",
    "有名な3山崩しの必勝法はゲーム全体の足し算の様子が3山崩しの場合に完全にわかってしまうことから得られる.\n",
    "\n",
    "ゲームの足し算の定義は直観的には簡単である. 2つのゲームを合わせたものが2つのゲームを足したものになる. 3つ以上の足し算でも同様である.\n",
    "\n",
    "例えば, $a$ 個の石の山から交互に好きなだけ(1個以上の)石を取り去るゲームを考える. 自分の手番で取れる石が無ければ負ける. \n",
    "\n",
    "石の山が1つしかなければ先手番がすべての石を取り去ってしまえば必ず勝てる. 相手の手番になったときに取れる石が無くなるからだ.\n",
    "\n",
    "$a$ 個の石の山と $b$ 個の石の山のゲームを足して得られるゲームは\n",
    "\n",
    "* 合法的着手はどちらか片方の山から好きなだけ(1個以上の)石を取り去ることとする\n",
    "\n",
    "によって定義される.  2つ山のゲームでは自分の手番で2つの山の石の個数が異なっていれば必ず勝てる. 必勝法は2つの山の石の数が同じになるように石を取り去ることである. そのように石を取り去っておけば自分の手番になったときに必ず2つの山の石の数は異なる. ゆえに必ずどちらかの山に石が残っている. これを繰り返して行けばいつかは相手の手番でどちらの山の石の数も0になってしまう.\n",
    "\n",
    "$a,b,c$ 個の石の山のゲームを全部足して得られるゲームは\n",
    "\n",
    "* 合法的着手はどれか1つの山から1個以上の石を取り去ることとする\n",
    "\n",
    "と定義される.  山の個数が4つ以上でも同様である.  \n",
    "\n",
    "同じ場面における2人のプレーヤーの合法的着手の集合が等しいゲームは impartial game と呼ばれている. 以上の石取りゲームは impartial game の典型例である.\n",
    "\n",
    "2人のプレーヤーの合法的着手が1つもないゲームを $0$ と書く. 例えば, 1つ山の石取りゲームで石の個数が $0$ ならばその石取りゲームは $0$ になる. \n",
    "\n",
    "$A+0$ と $A$ は同じゲームとみなせる. なぜならばゲーム $0$ の側で2人のプレーヤーは何も着手できず, ゲーム $A+0$ は実質的にゲーム $A$ になってしまうからである. \n",
    "\n",
    "2つの impartial games $A$, $B$ が同値であるとは, それらの和 $A+B$ が後手必勝であることだと定義できる. (この定義は impartial ではないゲームにも拡張されている. この定義はその制限になっている.)\n",
    "\n",
    "$A$ が後手必勝のゲームならば $A+0=A$ となるので $A+0$ は後手必勝になり, $A$ と $0$ は同値になる. 逆に $A$ と $0$ が同値ならば $A=A+0$ が後手必勝になる.  $A$ が後手必勝になることと, $A$ が $0$ に同値なことは $A$ が後手必勝なことの必要十分条件になる.\n",
    "\n",
    "ゲームの足し算は以上で説明したゲームの同値関係と整合的である. ゲームの足し算をするときに, ゲームの同値をまるで等号のように扱ってよい. 以下ではゲームの同値 $\\equiv$ と書くことにする.\n",
    "\n",
    "ゲーム $A+A$ では後手必勝になる. 必勝法は2つ山の石取りゲームの場合と同様である. なぜならば, 先手が2つの $A$ のどちらかで着手したら, 後手はもう一方の $A$ で同じ着手をすることを繰り返せばよいからである.  これで $A+A\\equiv 0$ が示された. これは $-A\\equiv A$ を意味する.\n",
    "\n",
    "石の個数が $a,b,c$ の石取りゲームをそれぞれを $A,B,C$ と書くことにする.  $A+B+C\\equiv 0$ (これは $A+B\\equiv C$ と論理的に独日)が成立する必要十分条件がわかれば, 石取りゲームの和 $A+B$ がどういうものであるかがわかる. 以下の結果がよく知られている.\n",
    "\n",
    "$0$ 以上の整数 $a,b$ を2進数表示した結果のすべての桁を $0\\oplus0=1\\oplus1=0$, $0\\oplus1=1\\oplus0=1$ というルール(2進数の各桁ごとのxor)で足し上げた結果を2進数表示として持つ $0$ 以上の整数を $a\\oplus b$ と書く. 例えば2進数表示を最初に $\\b$ を付けて表すことにすると\n",
    "\n",
    "$$\n",
    "7 = \\b 0111, \\quad 9 = \\b 1001, \\quad\n",
    "7\\oplus 9 = \\b1110 = 14\n",
    "$$\n",
    "\n",
    "$\\oplus$ は結合法則, 交換法則, $a\\oplus 0=0$, $a\\oplus a=0$ を満たす. $\\oplus$ を**Nim和**と呼ぶことにする.\n",
    "\n",
    "**定理:** $a\\oplus b\\oplus c=0$ と $A+B+C\\equiv 0$ は同値である. $\\QED$\n",
    "\n",
    "これは石の数のNim和 $a\\oplus b\\oplus c$ が $0$ になることと, 3山の石取りゲーム $A+B+C$ が後手必勝であることが同値であることを意味する. だから, 自分の手番で $a\\oplus b\\oplus c\\ne 0$ ならばどれかの山から適切に取り去ってNim和を $0$ できれば必勝である.\n",
    "\n",
    "この定理は実際にそのように石を取り去れることを示すことによって証明される. $a\\oplus b\\oplus c=r$ が $0$ でないと仮定する. $r$ の2進表示に現われる $1$ と同じ $a,b,c$ の桁のうち奇数個が $1$ になっている. 特に $r$ の2進表示の最高桁と同じ桁が $1$ になっているものが $a,b,c$ の中に存在する. それを $x$ と書く. そのとき $x\\oplus r$ は $x$ より真に小さくなる. ゆえに $x$ 個を減らして $x\\oplus r$ 個にできる. そのとき, 全体のNim和は $r\\oplus r=0$ となる. これで $a\\oplus b\\oplus c\\ne 0$ ならば $A,B,C$ の山のどれかから石を取り去ってNim和を0にできる.\n",
    "\n",
    "**例:** $(a,b,c)=(2,4,5)$ の場合.  $2=\\b010$, $4=\\b100$, $5=\\b101$ なので $2\\oplus 4\\oplus 5=\\b11$ となる. これの最高桁と同じ桁が $1$ になっているのは $2=\\b 10$ である. $2\\oplus\\b11=\\b01=1$ なので $2$ の山を $1$ に減らせば必勝である. $\\QED$"
   ]
  },
  {
   "cell_type": "code",
   "execution_count": 1,
   "metadata": {},
   "outputs": [
    {
     "data": {
      "text/plain": [
       "endof (generic function with 1 method)"
      ]
     },
     "execution_count": 1,
     "metadata": {},
     "output_type": "execute_result"
    }
   ],
   "source": [
    "bin(n) = string(n, base=2)\n",
    "endof(a) = lastindex(a)"
   ]
  },
  {
   "cell_type": "code",
   "execution_count": 2,
   "metadata": {},
   "outputs": [
    {
     "name": "stdout",
     "output_type": "stream",
     "text": [
      "bin.((a, b, c)) = (\"10\", \"100\", \"101\")\n",
      "(Int(r), bin(r)) = (3, \"11\")\n",
      "y = xor(a, r) = 1\n",
      "xor(y, b, c) = 0\n"
     ]
    },
    {
     "data": {
      "text/plain": [
       "0"
      ]
     },
     "execution_count": 2,
     "metadata": {},
     "output_type": "execute_result"
    }
   ],
   "source": [
    "a, b, c = 2, 4, 5\n",
    "@show bin.((a, b, c))\n",
    "r = xor(a, b, c)\n",
    "@show Int(r), bin(r)\n",
    "@show y = xor(a, r)\n",
    "@show xor(y, b, c)"
   ]
  },
  {
   "cell_type": "code",
   "execution_count": 3,
   "metadata": {},
   "outputs": [
    {
     "data": {
      "text/plain": [
       "NimStrategy (generic function with 1 method)"
      ]
     },
     "execution_count": 3,
     "metadata": {},
     "output_type": "execute_result"
    }
   ],
   "source": [
    "# Nimの必勝手を表示してくれる函数\n",
    "\n",
    "function NimStrategy(a)\n",
    "    S = typeof(a)[]\n",
    "    r = xor(a...)\n",
    "    l = length(bin(r))\n",
    "    iszero(r) && return S\n",
    "    for i in 1:endof(a)\n",
    "        b = bin(a[i])\n",
    "        if length(b) ≥ l && b[end+1-l] == '1'\n",
    "            x = vcat(a[1:i-1], xor(a[i], r), a[i+1:end])\n",
    "            push!(S, x)\n",
    "            println(\"$a -> $x\")\n",
    "        end\n",
    "    end\n",
    "    S\n",
    "end"
   ]
  },
  {
   "cell_type": "code",
   "execution_count": 4,
   "metadata": {},
   "outputs": [
    {
     "name": "stdout",
     "output_type": "stream",
     "text": [
      "[2, 4, 5] -> [1, 4, 5]\n"
     ]
    }
   ],
   "source": [
    "NimStrategy([2,4,5]);"
   ]
  },
  {
   "cell_type": "code",
   "execution_count": 5,
   "metadata": {},
   "outputs": [
    {
     "name": "stdout",
     "output_type": "stream",
     "text": [
      "[15, 7, 4, 9] -> [10, 7, 4, 9]\n",
      "[15, 7, 4, 9] -> [15, 2, 4, 9]\n",
      "[15, 7, 4, 9] -> [15, 7, 1, 9]\n"
     ]
    }
   ],
   "source": [
    "NimStrategy([15,7,4,9]);"
   ]
  },
  {
   "cell_type": "markdown",
   "metadata": {},
   "source": [
    "## 取れる石の個数に制限がある場合\n",
    "\n",
    "取れる石の個数が最大 $m$ 個までの同様のゲームを考えよう.\n",
    "\n",
    "このとき, 相手が $m+1$ 個以上の山から石 $k$ 個を取り去ったとき, 自分の手番で $m+1-k$ 個の石を同じ山から取れる. だから, もしもその山が $m+1$ 個減った状態で自分が必勝ならば, そうなる前の時点で自分が必勝である. したがって, すべての山から $m+1$ 個の倍数個の石を最大限取り去って, どの山の石の個数も $m$ 個以下になった状態で自分が必勝ならば, そうする前からすでに必勝である. \n",
    "\n",
    "どの山の石の個数も $m$ 個以下ならば取れる石の個数が最大 $m$ 個という制限が効いてくることはなくなる.\n",
    "\n",
    "その場合の必勝法は上の方で述べた制限無しの石取りゲームと同じである.\n",
    "\n"
   ]
  },
  {
   "cell_type": "code",
   "execution_count": 6,
   "metadata": {},
   "outputs": [
    {
     "data": {
      "text/plain": [
       "NimStrategy (generic function with 2 methods)"
      ]
     },
     "execution_count": 6,
     "metadata": {},
     "output_type": "execute_result"
    }
   ],
   "source": [
    "# 制限付きNimの必勝手を表示してくれる函数\n",
    "\n",
    "function NimStrategy(A, m)\n",
    "    S = typeof(A)[]\n",
    "    a = mod.(A, m+1)\n",
    "    r = xor(a...)\n",
    "    l = length(bin(r))\n",
    "    iszero(r) && return S\n",
    "    for i in 1:endof(A)\n",
    "        b = bin(a[i])\n",
    "        if length(b) ≥ l && b[end+1-l] == '1'\n",
    "            x = vcat(A[1:i-1], xor(a[i], r), A[i+1:end])\n",
    "            push!(S, x)\n",
    "            println(\"$A -> $x\")\n",
    "        end\n",
    "    end\n",
    "    S\n",
    "end"
   ]
  },
  {
   "cell_type": "code",
   "execution_count": 7,
   "metadata": {},
   "outputs": [
    {
     "name": "stdout",
     "output_type": "stream",
     "text": [
      "[2, 4, 5] -> [1, 4, 5]\n"
     ]
    }
   ],
   "source": [
    "NimStrategy([2,4,5], 5);"
   ]
  },
  {
   "cell_type": "code",
   "execution_count": 8,
   "metadata": {},
   "outputs": [
    {
     "name": "stdout",
     "output_type": "stream",
     "text": [
      "[2, 4, 5] -> [2, 2, 5]\n"
     ]
    }
   ],
   "source": [
    "NimStrategy([2,4,5], 4);"
   ]
  },
  {
   "cell_type": "code",
   "execution_count": 9,
   "metadata": {},
   "outputs": [
    {
     "name": "stdout",
     "output_type": "stream",
     "text": [
      "[2, 4, 5] -> [1, 4, 5]\n"
     ]
    }
   ],
   "source": [
    "NimStrategy([2,4,5], 3);"
   ]
  },
  {
   "cell_type": "code",
   "execution_count": 10,
   "metadata": {},
   "outputs": [
    {
     "name": "stdout",
     "output_type": "stream",
     "text": [
      "[2, 4, 5] -> [2, 0, 5]\n"
     ]
    }
   ],
   "source": [
    "NimStrategy([2,4,5], 2);"
   ]
  },
  {
   "cell_type": "code",
   "execution_count": 11,
   "metadata": {},
   "outputs": [
    {
     "name": "stdout",
     "output_type": "stream",
     "text": [
      "[15, 7, 4, 9] -> [2, 7, 4, 9]\n",
      "[15, 7, 4, 9] -> [15, 2, 4, 9]\n",
      "[15, 7, 4, 9] -> [15, 7, 4, 0]\n"
     ]
    }
   ],
   "source": [
    "NimStrategy([15,7,4,9], 3);"
   ]
  },
  {
   "cell_type": "code",
   "execution_count": null,
   "metadata": {},
   "outputs": [],
   "source": []
  }
 ],
 "metadata": {
  "kernelspec": {
   "display_name": "Julia 1.0.0",
   "language": "julia",
   "name": "julia-1.0"
  },
  "language_info": {
   "file_extension": ".jl",
   "mimetype": "application/julia",
   "name": "julia",
   "version": "1.0.0"
  },
  "toc": {
   "nav_menu": {},
   "number_sections": true,
   "sideBar": true,
   "skip_h1_title": true,
   "title_cell": "目次",
   "title_sidebar": "目次",
   "toc_cell": true,
   "toc_position": {},
   "toc_section_display": true,
   "toc_window_display": false
  }
 },
 "nbformat": 4,
 "nbformat_minor": 2
}
